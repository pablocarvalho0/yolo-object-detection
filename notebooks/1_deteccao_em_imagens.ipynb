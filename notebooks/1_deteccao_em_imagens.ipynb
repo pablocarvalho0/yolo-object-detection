{
 "cells": [
  {
   "cell_type": "code",
   "execution_count": 1,
   "metadata": {},
   "outputs": [],
   "source": [
    "from ultralytics import YOLO\n",
    "import cv2\n",
    "\n",
    "# Carrega YOLOv8 pré-treinado\n",
    "model = YOLO(\"yolov8s.pt\")  "
   ]
  },
  {
   "cell_type": "code",
   "execution_count": 2,
   "metadata": {},
   "outputs": [
    {
     "name": "stdout",
     "output_type": "stream",
     "text": [
      "\n",
      "0: 448x640 1 person, 1 dog, 27.8ms\n",
      "Speed: 7.1ms preprocess, 27.8ms inference, 383.9ms postprocess per image at shape (1, 3, 448, 640)\n"
     ]
    }
   ],
   "source": [
    "# Carregar imagem para detecção\n",
    "image_path = r\"C:\\Users\\pablo\\Documents\\Data Science\\Yolo\\photo.jpg\"  \n",
    "image = cv2.imread(image_path)\n",
    "\n",
    "# Realizar  detecção\n",
    "results = model(image, device=\"cuda\")"
   ]
  },
  {
   "cell_type": "code",
   "execution_count": 3,
   "metadata": {},
   "outputs": [],
   "source": [
    "# Exibição de resultados\n",
    "for result in results:\n",
    "    for box in result.boxes:\n",
    "        x1, y1, x2, y2 = map(int, box.xyxy[0])  # Coordenadas do bounding box\n",
    "        conf = box.conf[0]  # Confiança da detecção\n",
    "        cls = int(box.cls[0])  # Classe do objeto detectado\n",
    "        label = f\"{model.names[cls]} {conf:.2f}\"\n",
    "\n",
    "        # Desenha a caixa e o rótulo na imagem\n",
    "        cv2.rectangle(image, (x1, y1), (x2, y2), (0, 255, 0), 2)\n",
    "        cv2.putText(image, label, (x1, y1 - 10), cv2.FONT_HERSHEY_SIMPLEX, 0.5, (0, 255, 0), 2)\n",
    "\n",
    "# Exibe a imagem com as detecções\n",
    "cv2.imshow(\"Detecção YOLOv8\", image)\n",
    "cv2.waitKey(0)\n",
    "cv2.destroyAllWindows()"
   ]
  }
 ],
 "metadata": {
  "kernelspec": {
   "display_name": "yolov8_env",
   "language": "python",
   "name": "python3"
  },
  "language_info": {
   "codemirror_mode": {
    "name": "ipython",
    "version": 3
   },
   "file_extension": ".py",
   "mimetype": "text/x-python",
   "name": "python",
   "nbconvert_exporter": "python",
   "pygments_lexer": "ipython3",
   "version": "3.12.8"
  }
 },
 "nbformat": 4,
 "nbformat_minor": 2
}
